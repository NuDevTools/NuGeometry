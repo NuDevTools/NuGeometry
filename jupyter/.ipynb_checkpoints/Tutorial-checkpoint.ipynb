{
 "cells": [
  {
   "cell_type": "code",
   "execution_count": null,
   "metadata": {},
   "outputs": [],
   "source": [
    "import numpy as np\n",
    "# Import the shape package from nugeom\n",
    "import nugeom.shape as shape\n",
    "# Import the math (contains vectors and transformations) package from nugeom\n",
    "import nugeom.math as ngmath"
   ]
  },
  {
   "cell_type": "code",
   "execution_count": 6,
   "metadata": {},
   "outputs": [
    {
     "data": {
      "text/plain": [
       "18000000.0"
      ]
     },
     "execution_count": 6,
     "metadata": {},
     "output_type": "execute_result"
    }
   ],
   "source": [
    "# Create a box and print out the volume\n",
    "box = shape.Shape.create('<box x=\"300\" y=\"300\" z=\"200\"/>')\n",
    "box.volume()"
   ]
  },
  {
   "cell_type": "code",
   "execution_count": 8,
   "metadata": {},
   "outputs": [],
   "source": [
    "# Create a translation\n",
    "translation = ngmath.Translation(10, 5, 0)\n",
    "# Assign translation to the box\n",
    "box.set_translation(translation)"
   ]
  },
  {
   "cell_type": "code",
   "execution_count": 11,
   "metadata": {},
   "outputs": [],
   "source": [
    "# Create a rotation about X axis by 5 degrees\n",
    "axis = ngmath.Vector3D(1, 0, 0)\n",
    "rotation = ngmath.Rotation(axis, np.deg2rad(5))\n",
    "# Assign rotation to the box\n",
    "box.set_rotation(rotation)"
   ]
  },
  {
   "cell_type": "code",
   "execution_count": 12,
   "metadata": {},
   "outputs": [
    {
     "data": {
      "text/plain": [
       "-99.56422128626171"
      ]
     },
     "execution_count": 12,
     "metadata": {},
     "output_type": "execute_result"
    }
   ],
   "source": [
    "# Calculate distance from origin to surface of the box\n",
    "origin = ngmath.Vector3D(0, 0, 0)\n",
    "box.signed_distance(origin)"
   ]
  },
  {
   "cell_type": "code",
   "execution_count": null,
   "metadata": {},
   "outputs": [],
   "source": []
  }
 ],
 "metadata": {
  "kernelspec": {
   "display_name": "Python 3",
   "language": "python",
   "name": "python3"
  },
  "language_info": {
   "codemirror_mode": {
    "name": "ipython",
    "version": 3
   },
   "file_extension": ".py",
   "mimetype": "text/x-python",
   "name": "python",
   "nbconvert_exporter": "python",
   "pygments_lexer": "ipython3",
   "version": "3.8.6"
  }
 },
 "nbformat": 4,
 "nbformat_minor": 4
}
